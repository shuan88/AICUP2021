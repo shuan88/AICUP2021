{
  "nbformat": 4,
  "nbformat_minor": 0,
  "metadata": {
    "colab": {
      "name": "TE2021_PP_multi.ipynb",
      "provenance": []
    },
    "kernelspec": {
      "name": "python3",
      "display_name": "Python 3"
    },
    "language_info": {
      "name": "python"
    }
  },
  "cells": [
    {
      "cell_type": "markdown",
      "source": [
        "# Get file"
      ],
      "metadata": {
        "id": "LrX1dBmV-6A3"
      }
    },
    {
      "cell_type": "code",
      "execution_count": null,
      "metadata": {
        "id": "xI-HgeLV-wBo"
      },
      "outputs": [],
      "source": [
        "! cp /content/drive/MyDrive/AICUP2021/all_new_data.zip ./\n",
        "! unzip -q /content/all_new_data.zip -d ./image"
      ]
    },
    {
      "cell_type": "code",
      "source": [
        "! find ./image -name '.DS_Store' -type f -delete"
      ],
      "metadata": {
        "id": "L7odHlj_UoWx"
      },
      "execution_count": null,
      "outputs": []
    },
    {
      "cell_type": "markdown",
      "source": [
        "# import basic "
      ],
      "metadata": {
        "id": "HmQDlbUa_Mkc"
      }
    },
    {
      "cell_type": "code",
      "source": [
        "from IPython.display import clear_output\n",
        "import cv2\n",
        "import os\n",
        "from os import listdir\n",
        "from os.path import isfile, join\n",
        "import shutil\n",
        "import numpy as np\n",
        "import matplotlib.pyplot as plt\n",
        "from google.colab.patches import cv2_imshow\n",
        "import tensorflow as tf\n",
        "\n",
        "clear_output()"
      ],
      "metadata": {
        "id": "fSJCVWup_Y4y"
      },
      "execution_count": null,
      "outputs": []
    },
    {
      "cell_type": "markdown",
      "source": [
        "# 將所有資料夾內的資料統整和前處理"
      ],
      "metadata": {
        "id": "uORchWW8McLB"
      }
    },
    {
      "cell_type": "code",
      "source": [
        "path = \"/content/image\"\n",
        "trian_data = os.listdir(path)\n",
        "for folder in trian_data[: -1]:\n",
        "    print(folder)"
      ],
      "metadata": {
        "colab": {
          "base_uri": "https://localhost:8080/"
        },
        "id": "s3LGuJ_tNowo",
        "outputId": "0f71967b-4378-445f-9d6c-bd0ac446f76c"
      },
      "execution_count": null,
      "outputs": [
        {
          "output_type": "stream",
          "name": "stdout",
          "text": [
            "station4_white_pin2021_4_13_1618215204\n",
            "station4_white_pin2021_3_26_1616728021\n",
            "station4_white_pin2021-2-23_1614072478\n",
            "station4_white_pin2021_6_10_1623313550\n",
            "station4_white_pin2021_3_2_1614691284\n",
            "station4_white_pin2021-2-9_1612936555\n",
            "station4_white_pin2021-3-1_1614604523\n",
            "station4_white_pin2021_5_25_2_1621915791\n",
            "station4_white_pin2021_5_25_1621907920\n",
            "station4_white_pin2021-3-1_1614591023\n",
            "station4_white_pin2021-2-25_1614236947\n",
            "station4_white_pin2021_5_26_1621999356\n"
          ]
        }
      ]
    },
    {
      "cell_type": "code",
      "source": [
        "def create_new_dir(new_path_name):\n",
        "    path = \"./\" + new_path_name\n",
        "    if os.path.isdir(path):\n",
        "        shutil.rmtree(path)\n",
        "        # os.rmdir(\"./all_image\")\n",
        "    os.mkdir(path)\n",
        "    os.mkdir(join(path,\"ok\"))\n",
        "    os.mkdir(join(path,\"ng\"))"
      ],
      "metadata": {
        "id": "rnHEMzgADA_O"
      },
      "execution_count": null,
      "outputs": []
    },
    {
      "cell_type": "code",
      "source": [
        "new_path = \"all_image\"\n",
        "create_new_dir(\"all_image\")\n",
        "\n",
        "path = \"/content/image\"\n",
        "size =  (299,299)\n",
        "ng_count = 0\n",
        "ok_count = 0\n",
        "\n",
        "\n",
        "trian_data = os.listdir(path)\n",
        "# for folder in trian_data[: -1]:\n",
        "for folder in os.listdir(path):\n",
        "    full_path = join(path,folder)\n",
        "    for sub_folder in os.listdir(full_path):\n",
        "        full_sub_folder_path = join(full_path,sub_folder)\n",
        "        # print(full_sub_folder_path,os.listdir(full_sub_folder_path))\n",
        "        for file_name in os.listdir(full_sub_folder_path+\"/ng\"):\n",
        "            if  file_name[-3:] == \"jpg\":\n",
        "                full_name = full_sub_folder_path+\"/ng/\"+file_name\n",
        "                img = cv2.resize(cv2.imread(full_name), size)\n",
        "                cv2.imwrite(new_path+\"/ng/\"+folder+file_name, img)\n",
        "                # cv2.imwrite(\"{}/ng/{}.jpg\".format(new_path,ng_count), img)\n",
        "                # ng_count+=1\n",
        "            else:\n",
        "                print(file_name)\n",
        "        for file_name in os.listdir(full_sub_folder_path+\"/ok\"):\n",
        "            if  file_name[-3:] == \"jpg\":\n",
        "                full_name = full_sub_folder_path+\"/ok/\"+file_name\n",
        "                img = cv2.resize(cv2.imread(full_name), size)\n",
        "                cv2.imwrite(new_path+\"/ok/\"+folder+file_name, img)\n",
        "                # cv2.imwrite(\"{}/ok/{}.jpg\".format(new_path,ok_count), img)\n",
        "                # ok_count+=1\n",
        "            else:\n",
        "                print(file_name)\n",
        "print(len(os.listdir(\"/content/all_image/ok\")))\n",
        "print(len(os.listdir(\"/content/all_image/ng\")))"
      ],
      "metadata": {
        "id": "lKf_NdVt_dDb",
        "colab": {
          "base_uri": "https://localhost:8080/"
        },
        "outputId": "9cf771cb-4369-483c-d28b-6943931a9459"
      },
      "execution_count": null,
      "outputs": [
        {
          "output_type": "stream",
          "name": "stdout",
          "text": [
            "desktop.ini\n",
            "desktop.ini\n",
            "desktop.ini\n",
            "desktop.ini\n",
            "desktop.ini\n",
            "desktop.ini\n",
            "desktop.ini\n",
            "desktop.ini\n",
            "desktop.ini\n",
            "desktop.ini\n",
            "desktop.ini\n",
            "desktop.ini\n",
            "desktop.ini\n",
            "desktop.ini\n",
            "desktop.ini\n",
            "desktop.ini\n",
            "37190\n",
            "5735\n"
          ]
        }
      ]
    },
    {
      "cell_type": "markdown",
      "source": [
        "## updata to G-drive"
      ],
      "metadata": {
        "id": "mFpcpM3QNCnP"
      }
    },
    {
      "cell_type": "code",
      "source": [
        "%cd /content/all_image\n",
        "! zip -r -q /content/TE_allimg_299x299.zip ./*\n",
        "%cd /content\n",
        "# ! rm /content/drive/MyDrive/AICUP2021/TE_allimg_299x299.zip\n",
        "! cp /content/TE_allimg_299x299.zip /content/drive/MyDrive/AICUP2021\n",
        "\n",
        "\n",
        "# ## unzip file from G-drive\n",
        "# ! unzip -q TE_allimg_299x299.zip -d TE_allimg_299x299\n",
        "# # ! unzip -q TE_allimg_299x299.zip\n",
        "# ! rm TE_allimg_299x299.zip"
      ],
      "metadata": {
        "id": "3xzjJBwiOdmq",
        "colab": {
          "base_uri": "https://localhost:8080/"
        },
        "outputId": "198ce501-f2a5-4993-cb00-4788a6374f21"
      },
      "execution_count": null,
      "outputs": [
        {
          "output_type": "stream",
          "name": "stdout",
          "text": [
            "/content/all_image\n",
            "/content\n"
          ]
        }
      ]
    },
    {
      "cell_type": "code",
      "source": [
        "! ls -l --block-size=M"
      ],
      "metadata": {
        "id": "Y7qI-Ymna3YM"
      },
      "execution_count": null,
      "outputs": []
    },
    {
      "cell_type": "code",
      "source": [
        "! cp /content/TE_allimg_299x299.zip /content/drive/MyDrive/AICUP2021"
      ],
      "metadata": {
        "colab": {
          "base_uri": "https://localhost:8080/"
        },
        "id": "eIinYe2Mb6ZK",
        "outputId": "2f2952f6-f80d-48cf-ba3e-3ac13a606f41"
      },
      "execution_count": null,
      "outputs": [
        {
          "output_type": "stream",
          "name": "stdout",
          "text": [
            "^C\n"
          ]
        }
      ]
    },
    {
      "cell_type": "markdown",
      "source": [
        "# Create more error image"
      ],
      "metadata": {
        "id": "MGBqu4VKUu4W"
      }
    },
    {
      "cell_type": "markdown",
      "source": [
        "## get file from G-drive"
      ],
      "metadata": {
        "id": "BDui63icTGyz"
      }
    },
    {
      "cell_type": "code",
      "source": [
        "! cp /content/drive/MyDrive/AICUP2021/TE_allimg_299x299.zip ./\n",
        "! unzip -q TE_allimg_299x299.zip -d all_image"
      ],
      "metadata": {
        "id": "77dbwRnaTGoF"
      },
      "execution_count": null,
      "outputs": []
    },
    {
      "cell_type": "markdown",
      "source": [
        "## make more error image from ng"
      ],
      "metadata": {
        "id": "1UVdd3o4OS52"
      }
    },
    {
      "cell_type": "code",
      "source": [
        "ng_path = \"/content/all_image/ng\"\n",
        "sample_size = len(os.listdir(ng_path))//10\n",
        "rng = np.random.default_rng()\n",
        "sample= rng.choice(os.listdir(ng_path), sample_size)\n",
        "gen = 9"
      ],
      "metadata": {
        "id": "O18mb7d2rrOG"
      },
      "execution_count": null,
      "outputs": []
    },
    {
      "cell_type": "code",
      "source": [
        "from keras.preprocessing import image\n",
        "from keras.preprocessing.image import load_img\n",
        "from keras.preprocessing.image import img_to_array\n",
        "from keras.preprocessing.image import ImageDataGenerator\n",
        "import random\n",
        "\n",
        "def add_noise(img):\n",
        "    '''Add random noise to an image'''\n",
        "    if random.choice([True,True, False]):\n",
        "        VARIABILITY = 3\n",
        "        deviation = VARIABILITY*random.random()\n",
        "        noise = np.random.normal(0, deviation, img.shape)\n",
        "        img += noise\n",
        "        np.clip(img, 0., 255.)\n",
        "    return img\n",
        "\n",
        "def random_error(img):\n",
        "    if random.choice([True, True, False]):\n",
        "        start = (random.randrange(0, img.shape[0]),random.randrange(0, img.shape[1]))\n",
        "        end = (random.randrange(0, img.shape[0]),random.randrange(0, img.shape[1]))\n",
        "        c = (random.randrange(0,50),random.randrange(0,50),random.randrange(0,50))\n",
        "        w = random.randrange(1,10)\n",
        "        # cv2.line(影像, 開始座標, 結束座標, 顏色, 線條寬度)\n",
        "        cv2.line(img,start,end,c,w)\n",
        "    if random.choice([True, True, False]):\n",
        "        x = random.randrange(0, img.shape[0])\n",
        "        y = random.randrange(0, img.shape[1])\n",
        "        mask_size_x = random.randrange(0, img.shape[0]//2)\n",
        "        mask_size_y = random.randrange(0, img.shape[1]//2)\n",
        "        img[x:x+mask_size_x , y:y+mask_size_y] = img[random.randrange(0, img.shape[0]),random.randrange(0, img.shape[1])]\n",
        "    if random.choice([True, True, False]):\n",
        "        VARIABILITY = 3\n",
        "        deviation = VARIABILITY*random.random()\n",
        "        noise = np.random.normal(0, deviation, img.shape)\n",
        "        img += noise\n",
        "    if random.choice([True, True, False]):\n",
        "        img = tf.image.stateless_random_hue(img,0.2,(1, 2))\n",
        "    np.clip(img, 0., 255.)\n",
        "    return img\n",
        "\n",
        "for img_name in sample:\n",
        "    # print(join(ng_path,img_name))\n",
        "    img = load_img(join(ng_path,img_name))\n",
        "    # convert to numpy array\n",
        "    data = img_to_array(img)\n",
        "    # expand dimension to one sample\n",
        "    samples = np.expand_dims(data, 0)\n",
        "    # create image data augmentation generator\n",
        "    # https://zhuanlan.zhihu.com/p/30197320\n",
        "    # https://www.tensorflow.org/api_docs/python/tf/keras/preprocessing/image/ImageDataGenerator\n",
        "    datagen = ImageDataGenerator(\n",
        "            rotation_range=20,\n",
        "            width_shift_range=0.2,\n",
        "            height_shift_range=0.2,\n",
        "            zoom_range=0.2,\n",
        "            horizontal_flip=True,\n",
        "            vertical_flip=True,\n",
        "            brightness_range=[0.8,1.2],\n",
        "            shear_range=0.5,\n",
        "            channel_shift_range=3,\n",
        "            preprocessing_function=random_error,\n",
        "        )\n",
        "    # prepare iterator\n",
        "    it = datagen.flow(samples, batch_size=1)\n",
        "    # generate samples and plot\n",
        "    for i in range(gen):\n",
        "        # define subplot\n",
        "        # plt.subplot(440 + 1 + i)\n",
        "        # generate batch of images\n",
        "        batch = it.next()\n",
        "        # convert to unsigned integers for viewing\n",
        "        image = batch[0].astype('uint8')\n",
        "        plt.imshow(image)\n",
        "        plt.imsave(\"{}_{}.jpg\".format(join(ng_path,img_name),i),image)\n",
        "        # plt.imsave(\"/content/test_{}.jpg\".format(i),image)\n",
        "    # plt.show()"
      ],
      "metadata": {
        "id": "-RgYBmeBpSBP",
        "colab": {
          "base_uri": "https://localhost:8080/",
          "height": 269
        },
        "outputId": "16d8b097-6f58-4f26-f241-11c8c1353ccb"
      },
      "execution_count": null,
      "outputs": [
        {
          "output_type": "display_data",
          "data": {
            "image/png": "[encoded data removed]",
            "text/plain": [
              "<Figure size 432x288 with 1 Axes>"
            ]
          },
          "metadata": {
            "needs_background": "light"
          }
        }
      ]
    },
    {
      "cell_type": "code",
      "source": [
        "print(len(os.listdir(\"/content/all_image/ng\")))\n",
        "print(len(os.listdir(\"/content/all_image/ok\")))"
      ],
      "metadata": {
        "colab": {
          "base_uri": "https://localhost:8080/"
        },
        "id": "JODMtbr-LSsu",
        "outputId": "d95e2cd1-8109-4d40-a358-a1293db45a76"
      },
      "execution_count": null,
      "outputs": [
        {
          "output_type": "stream",
          "name": "stdout",
          "text": [
            "10631\n",
            "37190\n"
          ]
        }
      ]
    },
    {
      "cell_type": "markdown",
      "source": [
        "## validation_split"
      ],
      "metadata": {
        "id": "6_xk0xpAazQM"
      }
    },
    {
      "cell_type": "code",
      "source": [
        "validation_split"
      ],
      "metadata": {
        "id": "zuqbQdLWayoV"
      },
      "execution_count": null,
      "outputs": []
    },
    {
      "cell_type": "markdown",
      "source": [
        "## remove image in root"
      ],
      "metadata": {
        "id": "wefKOliVKxXg"
      }
    },
    {
      "cell_type": "code",
      "source": [
        "! rm /content/*.jpg"
      ],
      "metadata": {
        "id": "G6ALJzh6ALeA"
      },
      "execution_count": null,
      "outputs": []
    },
    {
      "cell_type": "markdown",
      "source": [
        "## save file to G-drive"
      ],
      "metadata": {
        "id": "EGn7D189Ksrq"
      }
    },
    {
      "cell_type": "code",
      "source": [
        "save_file_name = \"TE_PP_new\""
      ],
      "metadata": {
        "id": "oNN5Mx2OY0qr"
      },
      "execution_count": null,
      "outputs": []
    },
    {
      "cell_type": "code",
      "source": [
        "!ls {save_file_name}"
      ],
      "metadata": {
        "colab": {
          "base_uri": "https://localhost:8080/"
        },
        "id": "kB-eqArkZOfu",
        "outputId": "819251af-5681-402d-f5e7-04ef557f88e3"
      },
      "execution_count": null,
      "outputs": [
        {
          "output_type": "stream",
          "name": "stdout",
          "text": [
            "ls: cannot access 'TE_PP_new': No such file or directory\n"
          ]
        }
      ]
    },
    {
      "cell_type": "code",
      "source": [
        "%cd /content/all_image\n",
        "! zip -r -q /content/{save_file_name}.zip ./*\n",
        "%cd /content\n",
        "# ! rm /content/drive/MyDrive/AICUP2021/content/{save_file_name}.zip\n",
        "! cp /content/{save_file_name}.zip /content/drive/MyDrive/AICUP2021"
      ],
      "metadata": {
        "colab": {
          "base_uri": "https://localhost:8080/"
        },
        "id": "2rE5cRUPxwhl",
        "outputId": "6420178e-00db-4b96-c780-e8e07d94bacd"
      },
      "execution_count": null,
      "outputs": [
        {
          "output_type": "stream",
          "name": "stdout",
          "text": [
            "/content/all_image\n",
            "/content\n"
          ]
        }
      ]
    }
  ]
}