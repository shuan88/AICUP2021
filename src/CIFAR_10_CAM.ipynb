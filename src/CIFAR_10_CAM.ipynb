{
  "nbformat": 4,
  "nbformat_minor": 0,
  "metadata": {
    "kernelspec": {
      "display_name": "Python 3",
      "language": "python",
      "name": "python3"
    },
    "language_info": {
      "codemirror_mode": {
        "name": "ipython",
        "version": 3
      },
      "file_extension": ".py",
      "mimetype": "text/x-python",
      "name": "python",
      "nbconvert_exporter": "python",
      "pygments_lexer": "ipython3",
      "version": "3.7.4"
    },
    "colab": {
      "name": "CIFAR-10_CAM.ipynb",
      "provenance": [],
      "collapsed_sections": []
    },
    "accelerator": "GPU"
  },
  "cells": [
    {
      "cell_type": "markdown",
      "metadata": {
        "id": "zcYeb4RPOWKI"
      },
      "source": [
        "## 取得資料"
      ]
    },
    {
      "cell_type": "code",
      "metadata": {
        "id": "3hrlwDtsOWKL"
      },
      "source": [
        "# 載入需要的套件\n",
        "import tensorflow as tf\n",
        "from matplotlib import pyplot as plt\n",
        "import numpy as np\n",
        "import cv2"
      ],
      "execution_count": null,
      "outputs": []
    },
    {
      "cell_type": "code",
      "metadata": {
        "id": "hyrasYFLOWKY",
        "colab": {
          "base_uri": "https://localhost:8080/"
        },
        "outputId": "c8e0ce7c-1d22-4241-da42-b51817d5c4ff"
      },
      "source": [
        "# 取得tensorflow中內建的cifar10資料集\n",
        "cifar10 = tf.keras.datasets.cifar10\n",
        "\n",
        "# 載入資料集，其中包含訓練用的資料、標籤與測試用的資料、標籤\n",
        "(x_train, y_train), (x_test, y_test) = cifar10.load_data()"
      ],
      "execution_count": null,
      "outputs": [
        {
          "output_type": "stream",
          "text": [
            "Downloading data from https://www.cs.toronto.edu/~kriz/cifar-10-python.tar.gz\n",
            "170500096/170498071 [==============================] - 2s 0us/step\n"
          ],
          "name": "stdout"
        }
      ]
    },
    {
      "cell_type": "code",
      "metadata": {
        "id": "Ypgpdbz3OWKl",
        "colab": {
          "base_uri": "https://localhost:8080/",
          "height": 436
        },
        "outputId": "7c2a44af-66e9-43bf-e757-c6bc8ecb3f28"
      },
      "source": [
        "# 看一下資料集的形狀\n",
        "print(x_train.shape)\n",
        "print(y_train.shape, y_train)\n",
        "print(y_test.shape)\n",
        "\n",
        "# 把資料集中的圖片印出來看看\n",
        "plt.imshow(x_train[0], cmap='binary' )"
      ],
      "execution_count": null,
      "outputs": [
        {
          "output_type": "stream",
          "text": [
            "(50000, 32, 32, 3)\n",
            "(50000, 1) [[6]\n",
            " [9]\n",
            " [9]\n",
            " ...\n",
            " [9]\n",
            " [1]\n",
            " [1]]\n",
            "(10000, 1)\n"
          ],
          "name": "stdout"
        },
        {
          "output_type": "execute_result",
          "data": {
            "text/plain": [
              "<matplotlib.image.AxesImage at 0x7fe38c3246a0>"
            ]
          },
          "metadata": {
            "tags": []
          },
          "execution_count": 3
        },
        {
          "output_type": "display_data",
          "data": {
            "image/png": "[encoded data removed]",
            "text/plain": [
              "<Figure size 432x288 with 1 Axes>"
            ]
          },
          "metadata": {
            "tags": [],
            "needs_background": "light"
          }
        }
      ]
    },
    {
      "cell_type": "code",
      "metadata": {
        "id": "D60CQ8wiOWKx"
      },
      "source": [
        "# 對輸入資料做處理\n",
        "x_train = x_train / 255\n",
        "x_test = x_test / 255"
      ],
      "execution_count": null,
      "outputs": []
    },
    {
      "cell_type": "markdown",
      "metadata": {
        "id": "tH4fx1k4OWK4"
      },
      "source": [
        "## 建立模型"
      ]
    },
    {
      "cell_type": "code",
      "metadata": {
        "id": "IAd-lNvKOWK6",
        "colab": {
          "base_uri": "https://localhost:8080/"
        },
        "outputId": "deaa37ca-3c25-4112-adba-6df0156fafe2"
      },
      "source": [
        "# 先建立既有模型\n",
        "base_model = tf.keras.applications.VGG16(\n",
        "    weights='imagenet',\n",
        "    input_shape=(32, 32, 3),\n",
        "    include_top=False)\n",
        "\n",
        "base_model.summary()\n",
        "\n",
        "# 擷取模型中的元件，並使用Moddel API重組成新的model\n",
        "base_model = tf.keras.Model(\n",
        "    inputs=base_model.inputs,\n",
        "    outputs=base_model.get_layer(name='block3_conv3').output,\n",
        "    name='VGG16_block_1_to_3')\n",
        "\n",
        "# 將既有權重更新關掉\n",
        "base_model.trainable = False\n",
        "\n",
        "# 使用tf.keras中的循序模型(Sequential)模組來建立模型\n",
        "model = tf.keras.models.Sequential([\n",
        "  tf.keras.layers.InputLayer(input_shape=(32, 32, 3)),\n",
        "  base_model,\n",
        "  tf.keras.layers.GlobalAveragePooling2D(),\n",
        "  tf.keras.layers.Dense(64, activation='relu'),\n",
        "  tf.keras.layers.Dense(10, activation='softmax')\n",
        "])\n",
        "\n",
        "# 列出模型的結構與順序\n",
        "model.summary()"
      ],
      "execution_count": null,
      "outputs": [
        {
          "output_type": "stream",
          "text": [
            "Downloading data from https://storage.googleapis.com/tensorflow/keras-applications/vgg16/vgg16_weights_tf_dim_ordering_tf_kernels_notop.h5\n",
            "58892288/58889256 [==============================] - 0s 0us/step\n",
            "Model: \"vgg16\"\n",
            "_________________________________________________________________\n",
            "Layer (type)                 Output Shape              Param #   \n",
            "=================================================================\n",
            "input_1 (InputLayer)         [(None, 32, 32, 3)]       0         \n",
            "_________________________________________________________________\n",
            "block1_conv1 (Conv2D)        (None, 32, 32, 64)        1792      \n",
            "_________________________________________________________________\n",
            "block1_conv2 (Conv2D)        (None, 32, 32, 64)        36928     \n",
            "_________________________________________________________________\n",
            "block1_pool (MaxPooling2D)   (None, 16, 16, 64)        0         \n",
            "_________________________________________________________________\n",
            "block2_conv1 (Conv2D)        (None, 16, 16, 128)       73856     \n",
            "_________________________________________________________________\n",
            "block2_conv2 (Conv2D)        (None, 16, 16, 128)       147584    \n",
            "_________________________________________________________________\n",
            "block2_pool (MaxPooling2D)   (None, 8, 8, 128)         0         \n",
            "_________________________________________________________________\n",
            "block3_conv1 (Conv2D)        (None, 8, 8, 256)         295168    \n",
            "_________________________________________________________________\n",
            "block3_conv2 (Conv2D)        (None, 8, 8, 256)         590080    \n",
            "_________________________________________________________________\n",
            "block3_conv3 (Conv2D)        (None, 8, 8, 256)         590080    \n",
            "_________________________________________________________________\n",
            "block3_pool (MaxPooling2D)   (None, 4, 4, 256)         0         \n",
            "_________________________________________________________________\n",
            "block4_conv1 (Conv2D)        (None, 4, 4, 512)         1180160   \n",
            "_________________________________________________________________\n",
            "block4_conv2 (Conv2D)        (None, 4, 4, 512)         2359808   \n",
            "_________________________________________________________________\n",
            "block4_conv3 (Conv2D)        (None, 4, 4, 512)         2359808   \n",
            "_________________________________________________________________\n",
            "block4_pool (MaxPooling2D)   (None, 2, 2, 512)         0         \n",
            "_________________________________________________________________\n",
            "block5_conv1 (Conv2D)        (None, 2, 2, 512)         2359808   \n",
            "_________________________________________________________________\n",
            "block5_conv2 (Conv2D)        (None, 2, 2, 512)         2359808   \n",
            "_________________________________________________________________\n",
            "block5_conv3 (Conv2D)        (None, 2, 2, 512)         2359808   \n",
            "_________________________________________________________________\n",
            "block5_pool (MaxPooling2D)   (None, 1, 1, 512)         0         \n",
            "=================================================================\n",
            "Total params: 14,714,688\n",
            "Trainable params: 14,714,688\n",
            "Non-trainable params: 0\n",
            "_________________________________________________________________\n",
            "Model: \"sequential\"\n",
            "_________________________________________________________________\n",
            "Layer (type)                 Output Shape              Param #   \n",
            "=================================================================\n",
            "VGG16_block_1_to_3 (Function (None, 8, 8, 256)         1735488   \n",
            "_________________________________________________________________\n",
            "global_average_pooling2d (Gl (None, 256)               0         \n",
            "_________________________________________________________________\n",
            "dense (Dense)                (None, 64)                16448     \n",
            "_________________________________________________________________\n",
            "dense_1 (Dense)              (None, 10)                650       \n",
            "=================================================================\n",
            "Total params: 1,752,586\n",
            "Trainable params: 17,098\n",
            "Non-trainable params: 1,735,488\n",
            "_________________________________________________________________\n"
          ],
          "name": "stdout"
        }
      ]
    },
    {
      "cell_type": "code",
      "metadata": {
        "id": "WQ1_26nvOWLE"
      },
      "source": [
        "# 為模型加上訓練用的結構\n",
        "# 使用adam做訓練，以SparseCategoricalCrossentropy當作\n",
        "# 訓練過程中，使用準確率當作顯示的指標\n",
        "model.compile(optimizer='adam',\n",
        "              loss='sparse_categorical_crossentropy',\n",
        "              metrics=['accuracy'])\n"
      ],
      "execution_count": null,
      "outputs": []
    },
    {
      "cell_type": "markdown",
      "metadata": {
        "id": "Q3MnM41QOWLM"
      },
      "source": [
        "## 訓練與評估模型"
      ]
    },
    {
      "cell_type": "code",
      "metadata": {
        "id": "jhxLfmyZOWLO",
        "colab": {
          "base_uri": "https://localhost:8080/"
        },
        "outputId": "38cb266e-582d-4b2b-ec11-0d99f6092d78"
      },
      "source": [
        "# 訓練模型\n",
        "history = model.fit(x_train,\n",
        "                    y_train,\n",
        "                    batch_size=32,\n",
        "                    epochs=20,\n",
        "                    validation_split=0.25)"
      ],
      "execution_count": null,
      "outputs": [
        {
          "output_type": "stream",
          "text": [
            "Epoch 1/20\n",
            "1172/1172 [==============================] - 14s 5ms/step - loss: 2.3299 - accuracy: 0.3863 - val_loss: 1.1559 - val_accuracy: 0.5958\n",
            "Epoch 2/20\n",
            "1172/1172 [==============================] - 6s 5ms/step - loss: 1.1472 - accuracy: 0.5956 - val_loss: 1.0502 - val_accuracy: 0.6339\n",
            "Epoch 3/20\n",
            "1172/1172 [==============================] - 6s 5ms/step - loss: 1.0383 - accuracy: 0.6336 - val_loss: 1.0236 - val_accuracy: 0.6388\n",
            "Epoch 4/20\n",
            "1172/1172 [==============================] - 6s 5ms/step - loss: 0.9945 - accuracy: 0.6502 - val_loss: 0.9773 - val_accuracy: 0.6566\n",
            "Epoch 5/20\n",
            "1172/1172 [==============================] - 6s 5ms/step - loss: 0.9532 - accuracy: 0.6651 - val_loss: 0.9884 - val_accuracy: 0.6502\n",
            "Epoch 6/20\n",
            "1172/1172 [==============================] - 6s 5ms/step - loss: 0.9380 - accuracy: 0.6716 - val_loss: 0.9515 - val_accuracy: 0.6673\n",
            "Epoch 7/20\n",
            "1172/1172 [==============================] - 6s 5ms/step - loss: 0.9219 - accuracy: 0.6817 - val_loss: 0.9732 - val_accuracy: 0.6579\n",
            "Epoch 8/20\n",
            "1172/1172 [==============================] - 6s 5ms/step - loss: 0.9075 - accuracy: 0.6804 - val_loss: 0.9007 - val_accuracy: 0.6867\n",
            "Epoch 9/20\n",
            "1172/1172 [==============================] - 6s 5ms/step - loss: 0.9010 - accuracy: 0.6859 - val_loss: 0.9432 - val_accuracy: 0.6698\n",
            "Epoch 10/20\n",
            "1172/1172 [==============================] - 6s 5ms/step - loss: 0.8815 - accuracy: 0.6939 - val_loss: 0.9668 - val_accuracy: 0.6578\n",
            "Epoch 11/20\n",
            "1172/1172 [==============================] - 6s 5ms/step - loss: 0.8911 - accuracy: 0.6882 - val_loss: 0.9113 - val_accuracy: 0.6882\n",
            "Epoch 12/20\n",
            "1172/1172 [==============================] - 6s 5ms/step - loss: 0.8726 - accuracy: 0.6942 - val_loss: 0.8756 - val_accuracy: 0.6972\n",
            "Epoch 13/20\n",
            "1172/1172 [==============================] - 6s 5ms/step - loss: 0.8631 - accuracy: 0.6946 - val_loss: 0.8892 - val_accuracy: 0.6933\n",
            "Epoch 14/20\n",
            "1172/1172 [==============================] - 6s 5ms/step - loss: 0.8389 - accuracy: 0.7058 - val_loss: 0.9451 - val_accuracy: 0.6718\n",
            "Epoch 15/20\n",
            "1172/1172 [==============================] - 6s 5ms/step - loss: 0.8485 - accuracy: 0.7029 - val_loss: 0.8763 - val_accuracy: 0.6921\n",
            "Epoch 16/20\n",
            "1172/1172 [==============================] - 6s 5ms/step - loss: 0.8475 - accuracy: 0.7044 - val_loss: 0.8989 - val_accuracy: 0.6854\n",
            "Epoch 17/20\n",
            "1172/1172 [==============================] - 6s 5ms/step - loss: 0.8453 - accuracy: 0.7075 - val_loss: 0.9171 - val_accuracy: 0.6826\n",
            "Epoch 18/20\n",
            "1172/1172 [==============================] - 6s 5ms/step - loss: 0.8302 - accuracy: 0.7084 - val_loss: 0.9520 - val_accuracy: 0.6703\n",
            "Epoch 19/20\n",
            "1172/1172 [==============================] - 6s 5ms/step - loss: 0.8364 - accuracy: 0.7054 - val_loss: 0.8612 - val_accuracy: 0.6995\n",
            "Epoch 20/20\n",
            "1172/1172 [==============================] - 6s 5ms/step - loss: 0.8139 - accuracy: 0.7149 - val_loss: 0.9058 - val_accuracy: 0.6882\n"
          ],
          "name": "stdout"
        }
      ]
    },
    {
      "cell_type": "code",
      "metadata": {
        "id": "qta1AwQoSzjw",
        "colab": {
          "base_uri": "https://localhost:8080/"
        },
        "outputId": "7e6e74d2-c432-44dd-e352-1c58e20bd14e"
      },
      "source": [
        "# 進行fine-tune\n",
        "# 解除特徵擷取的訓練限制\n",
        "base_model.trainable = True\n",
        "\n",
        "# 給予比平常還小的learning rate\n",
        "model.compile(optimizer=tf.keras.optimizers.Adam(learning_rate=1e-5),\n",
        "              loss='sparse_categorical_crossentropy',\n",
        "              metrics=['accuracy'])\n",
        "\n",
        "# 進行微調\n",
        "history = model.fit(x_train,\n",
        "                    y_train,\n",
        "                    batch_size=32,\n",
        "                    epochs=30,\n",
        "                    validation_split=0.25)"
      ],
      "execution_count": null,
      "outputs": [
        {
          "output_type": "stream",
          "text": [
            "Epoch 1/30\n",
            "1172/1172 [==============================] - 13s 10ms/step - loss: 0.7899 - accuracy: 0.7241 - val_loss: 0.7815 - val_accuracy: 0.7289\n",
            "Epoch 2/30\n",
            "1172/1172 [==============================] - 12s 10ms/step - loss: 0.7034 - accuracy: 0.7546 - val_loss: 0.7262 - val_accuracy: 0.7453\n",
            "Epoch 3/30\n",
            "1172/1172 [==============================] - 12s 10ms/step - loss: 0.6586 - accuracy: 0.7683 - val_loss: 0.6946 - val_accuracy: 0.7567\n",
            "Epoch 4/30\n",
            "1172/1172 [==============================] - 12s 10ms/step - loss: 0.6221 - accuracy: 0.7798 - val_loss: 0.7235 - val_accuracy: 0.7486\n",
            "Epoch 5/30\n",
            "1172/1172 [==============================] - 12s 10ms/step - loss: 0.6011 - accuracy: 0.7877 - val_loss: 0.6573 - val_accuracy: 0.7706\n",
            "Epoch 6/30\n",
            "1172/1172 [==============================] - 12s 10ms/step - loss: 0.5717 - accuracy: 0.8003 - val_loss: 0.6452 - val_accuracy: 0.7750\n",
            "Epoch 7/30\n",
            "1172/1172 [==============================] - 12s 10ms/step - loss: 0.5507 - accuracy: 0.8100 - val_loss: 0.6198 - val_accuracy: 0.7815\n",
            "Epoch 8/30\n",
            "1172/1172 [==============================] - 12s 10ms/step - loss: 0.5293 - accuracy: 0.8146 - val_loss: 0.6303 - val_accuracy: 0.7817\n",
            "Epoch 9/30\n",
            "1172/1172 [==============================] - 12s 10ms/step - loss: 0.5244 - accuracy: 0.8151 - val_loss: 0.6618 - val_accuracy: 0.7698\n",
            "Epoch 10/30\n",
            "1172/1172 [==============================] - 12s 10ms/step - loss: 0.4981 - accuracy: 0.8269 - val_loss: 0.6152 - val_accuracy: 0.7820\n",
            "Epoch 11/30\n",
            "1172/1172 [==============================] - 12s 10ms/step - loss: 0.4785 - accuracy: 0.8332 - val_loss: 0.5922 - val_accuracy: 0.7931\n",
            "Epoch 12/30\n",
            "1172/1172 [==============================] - 12s 10ms/step - loss: 0.4711 - accuracy: 0.8363 - val_loss: 0.6111 - val_accuracy: 0.7879\n",
            "Epoch 13/30\n",
            "1172/1172 [==============================] - 12s 10ms/step - loss: 0.4611 - accuracy: 0.8400 - val_loss: 0.5911 - val_accuracy: 0.7938\n",
            "Epoch 14/30\n",
            "1172/1172 [==============================] - 12s 10ms/step - loss: 0.4502 - accuracy: 0.8445 - val_loss: 0.5714 - val_accuracy: 0.8009\n",
            "Epoch 15/30\n",
            "1172/1172 [==============================] - 12s 10ms/step - loss: 0.4249 - accuracy: 0.8517 - val_loss: 0.5626 - val_accuracy: 0.8058\n",
            "Epoch 16/30\n",
            "1172/1172 [==============================] - 12s 10ms/step - loss: 0.4218 - accuracy: 0.8560 - val_loss: 0.5769 - val_accuracy: 0.8012\n",
            "Epoch 17/30\n",
            "1172/1172 [==============================] - 12s 10ms/step - loss: 0.4121 - accuracy: 0.8569 - val_loss: 0.5763 - val_accuracy: 0.8023\n",
            "Epoch 18/30\n",
            "1172/1172 [==============================] - 12s 10ms/step - loss: 0.4015 - accuracy: 0.8625 - val_loss: 0.5580 - val_accuracy: 0.8074\n",
            "Epoch 19/30\n",
            "1172/1172 [==============================] - 12s 10ms/step - loss: 0.3839 - accuracy: 0.8680 - val_loss: 0.5826 - val_accuracy: 0.7998\n",
            "Epoch 20/30\n",
            "1172/1172 [==============================] - 12s 10ms/step - loss: 0.3794 - accuracy: 0.8695 - val_loss: 0.5505 - val_accuracy: 0.8120\n",
            "Epoch 21/30\n",
            "1172/1172 [==============================] - 12s 10ms/step - loss: 0.3695 - accuracy: 0.8735 - val_loss: 0.5573 - val_accuracy: 0.8090\n",
            "Epoch 22/30\n",
            "1172/1172 [==============================] - 12s 10ms/step - loss: 0.3577 - accuracy: 0.8766 - val_loss: 0.5470 - val_accuracy: 0.8103\n",
            "Epoch 23/30\n",
            "1172/1172 [==============================] - 12s 10ms/step - loss: 0.3513 - accuracy: 0.8777 - val_loss: 0.5494 - val_accuracy: 0.8134\n",
            "Epoch 24/30\n",
            "1172/1172 [==============================] - 12s 10ms/step - loss: 0.3450 - accuracy: 0.8801 - val_loss: 0.5390 - val_accuracy: 0.8156\n",
            "Epoch 25/30\n",
            "1172/1172 [==============================] - 12s 10ms/step - loss: 0.3298 - accuracy: 0.8870 - val_loss: 0.5472 - val_accuracy: 0.8133\n",
            "Epoch 26/30\n",
            "1172/1172 [==============================] - 12s 10ms/step - loss: 0.3231 - accuracy: 0.8908 - val_loss: 0.5515 - val_accuracy: 0.8112\n",
            "Epoch 27/30\n",
            "1172/1172 [==============================] - 12s 10ms/step - loss: 0.3096 - accuracy: 0.8928 - val_loss: 0.5481 - val_accuracy: 0.8134\n",
            "Epoch 28/30\n",
            "1172/1172 [==============================] - 12s 10ms/step - loss: 0.3095 - accuracy: 0.8965 - val_loss: 0.5292 - val_accuracy: 0.8192\n",
            "Epoch 29/30\n",
            "1172/1172 [==============================] - 12s 10ms/step - loss: 0.2930 - accuracy: 0.9000 - val_loss: 0.5567 - val_accuracy: 0.8138\n",
            "Epoch 30/30\n",
            "1172/1172 [==============================] - 12s 10ms/step - loss: 0.2914 - accuracy: 0.8993 - val_loss: 0.5512 - val_accuracy: 0.8134\n"
          ],
          "name": "stdout"
        }
      ]
    },
    {
      "cell_type": "code",
      "metadata": {
        "id": "gVoAhABEOWLV",
        "colab": {
          "base_uri": "https://localhost:8080/"
        },
        "outputId": "53833bb4-9d41-4d70-8f7c-44662c23514e"
      },
      "source": [
        "# 評估模型\n",
        "model.evaluate(x_test,  y_test)"
      ],
      "execution_count": null,
      "outputs": [
        {
          "output_type": "stream",
          "text": [
            "313/313 [==============================] - 1s 4ms/step - loss: 0.5722 - accuracy: 0.8117\n"
          ],
          "name": "stdout"
        },
        {
          "output_type": "execute_result",
          "data": {
            "text/plain": [
              "[0.5722455382347107, 0.8116999864578247]"
            ]
          },
          "metadata": {
            "tags": []
          },
          "execution_count": 9
        }
      ]
    },
    {
      "cell_type": "code",
      "metadata": {
        "id": "borQphI8OWLg",
        "colab": {
          "base_uri": "https://localhost:8080/",
          "height": 312
        },
        "outputId": "ed25ab7f-5b83-430a-d8c9-8bedff056e78"
      },
      "source": [
        "# 繪製圖表\n",
        "# 設定圖表大小\n",
        "plt.figure(figsize=(12, 4))\n",
        "\n",
        "# 選定1列2行第1張\n",
        "plt.subplot(1,2,1)\n",
        "# 畫上兩條線\n",
        "plt.plot(history.history['accuracy'])\n",
        "plt.plot(history.history['val_accuracy'])\n",
        "# 設定圖表名稱與圖例\n",
        "plt.title('model accuracy')\n",
        "plt.ylabel('accuracy')\n",
        "plt.xlabel('epoch')\n",
        "plt.legend(['train', 'test'], loc='lower right')\n",
        "\n",
        "plt.subplot(1,2,2)\n",
        "plt.plot(history.history['loss'])\n",
        "plt.plot(history.history['val_loss'])\n",
        "plt.title('model loss')\n",
        "plt.ylabel('loss')\n",
        "plt.xlabel('epoch')\n",
        "plt.legend(['train', 'test'], loc='upper right')"
      ],
      "execution_count": null,
      "outputs": [
        {
          "output_type": "execute_result",
          "data": {
            "text/plain": [
              "<matplotlib.legend.Legend at 0x7fe31a430b38>"
            ]
          },
          "metadata": {
            "tags": []
          },
          "execution_count": 10
        },
        {
          "output_type": "display_data",
          "data": {
            "image/png": "[encoded data removed]",
            "text/plain": [
              "<Figure size 864x288 with 2 Axes>"
            ]
          },
          "metadata": {
            "tags": [],
            "needs_background": "light"
          }
        }
      ]
    },
    {
      "cell_type": "code",
      "metadata": {
        "id": "N_UhthS5WPiB",
        "colab": {
          "base_uri": "https://localhost:8080/"
        },
        "outputId": "80279a26-60f8-4484-8def-a956003c0b5b"
      },
      "source": [
        "# 使用tf.keras中的循序模型(Sequential)模組來建立模型\n",
        "CAM_model = tf.keras.models.Sequential([\n",
        "  tf.keras.layers.InputLayer(input_shape=(32, 32, 3)),\n",
        "  base_model,\n",
        "  tf.keras.layers.Conv2D(64, 1, padding='same', activation='relu'),\n",
        "  tf.keras.layers.Conv2D(10, 1, padding='same', activation='softmax')\n",
        "])\n",
        "\n",
        "CAM_model.summary()"
      ],
      "execution_count": null,
      "outputs": [
        {
          "output_type": "stream",
          "text": [
            "Model: \"sequential_1\"\n",
            "_________________________________________________________________\n",
            "Layer (type)                 Output Shape              Param #   \n",
            "=================================================================\n",
            "VGG16_block_1_to_3 (Function (None, 8, 8, 256)         1735488   \n",
            "_________________________________________________________________\n",
            "conv2d (Conv2D)              (None, 8, 8, 64)          16448     \n",
            "_________________________________________________________________\n",
            "conv2d_1 (Conv2D)            (None, 8, 8, 10)          650       \n",
            "=================================================================\n",
            "Total params: 1,752,586\n",
            "Trainable params: 1,752,586\n",
            "Non-trainable params: 0\n",
            "_________________________________________________________________\n"
          ],
          "name": "stdout"
        }
      ]
    },
    {
      "cell_type": "code",
      "metadata": {
        "id": "okDcYLnsW3d4",
        "colab": {
          "base_uri": "https://localhost:8080/"
        },
        "outputId": "6ee29d1d-6bbf-4dd8-fb8a-8ceb25895be7"
      },
      "source": [
        "# 抓出相應的layer，並檢查weight的shape\n",
        "dense = model.get_layer(name='dense')\n",
        "dense_1 = model.get_layer(name='dense_1')\n",
        "conv2d = CAM_model.get_layer(name='conv2d')\n",
        "conv2d_1 = CAM_model.get_layer(name='conv2d_1')\n",
        "\n",
        "print(len(dense.get_weights()))\n",
        "print(len(conv2d.get_weights()))\n",
        "\n",
        "print(dense.get_weights()[0].shape)\n",
        "print(conv2d.get_weights()[0].shape)\n",
        "\n",
        "print(dense.get_weights()[1].shape)\n",
        "print(conv2d.get_weights()[1].shape)"
      ],
      "execution_count": null,
      "outputs": [
        {
          "output_type": "stream",
          "text": [
            "2\n",
            "2\n",
            "(256, 64)\n",
            "(1, 1, 256, 64)\n",
            "(64,)\n",
            "(64,)\n"
          ],
          "name": "stdout"
        }
      ]
    },
    {
      "cell_type": "code",
      "metadata": {
        "id": "3VpOcX0uXh2a",
        "colab": {
          "base_uri": "https://localhost:8080/"
        },
        "outputId": "9dafd825-7031-4c6e-a471-5e9214ca6a2c"
      },
      "source": [
        "# 嘗試轉換dense weight的shape，使其符合conv2d的weight shape\n",
        "print(np.array([[dense.get_weights()[0]]]).shape)\n",
        "\n",
        "# 移植weight\n",
        "conv2d.set_weights([\n",
        "    np.array([[dense.get_weights()[0]]]) ,\n",
        "    dense.get_weights()[1]])\n",
        "\n",
        "# 移植weight\n",
        "conv2d_1.set_weights([\n",
        "    np.array([[dense_1.get_weights()[0]]]) ,\n",
        "    dense_1.get_weights()[1]])"
      ],
      "execution_count": null,
      "outputs": [
        {
          "output_type": "stream",
          "text": [
            "(1, 1, 256, 64)\n"
          ],
          "name": "stdout"
        }
      ]
    },
    {
      "cell_type": "code",
      "metadata": {
        "id": "IyRe6rdLYVV4",
        "colab": {
          "base_uri": "https://localhost:8080/",
          "height": 556
        },
        "outputId": "e59ac956-e620-42ac-fe25-31c91f228ea3"
      },
      "source": [
        "# 取得一個可以餵入模型的樣本\n",
        "index = 0\n",
        "sample = np.array([x_train[index]])\n",
        "label = y_train[index]\n",
        "\n",
        "# 判斷其類別，並產生CAM\n",
        "predict_class = np.argmax(model.predict(sample))\n",
        "pridict_map = CAM_model.predict(sample)\n",
        "print(predict_class, label)\n",
        "\n",
        "# 設定圖表大小\n",
        "plt.figure(figsize=(12, 9))\n",
        "\n",
        "#  繪製原圖\n",
        "plt.subplot(3,1,1)\n",
        "plt.title('input')\n",
        "plt.imshow(sample[0], cmap='binary' )\n",
        "\n",
        "# 繪製各張map\n",
        "for i in range(10):\n",
        "  plt.subplot(3,5,6+i)\n",
        "  plt.title('Class' + str(i))\n",
        "  img = pridict_map[0][:,:,i]\n",
        "  img = cv2.resize(img, (32,32), interpolation=cv2.INTER_CUBIC)\n",
        "  plt.imshow(img)\n",
        "  \n",
        "  "
      ],
      "execution_count": null,
      "outputs": [
        {
          "output_type": "stream",
          "text": [
            "6 [6]\n"
          ],
          "name": "stdout"
        },
        {
          "output_type": "display_data",
          "data": {
            "image/png": "[encoded data removed]",
            "text/plain": [
              "<Figure size 864x648 with 11 Axes>"
            ]
          },
          "metadata": {
            "tags": [],
            "needs_background": "light"
          }
        }
      ]
    }
  ]
}