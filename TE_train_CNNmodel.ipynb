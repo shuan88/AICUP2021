{
  "nbformat": 4,
  "nbformat_minor": 0,
  "metadata": {
    "colab": {
      "name": "TE_train_CNNmodel.ipynb",
      "provenance": [],
      "collapsed_sections": [],
      "mount_file_id": "1JdiUHGDEtZleHGdTrnmA4EnX_BntpuVw",
      "authorship_tag": "ABX9TyPS+RAw7S2vmJ3XAmoGsS8k",
      "include_colab_link": true
    },
    "kernelspec": {
      "name": "python3",
      "display_name": "Python 3"
    },
    "language_info": {
      "name": "python"
    },
    "accelerator": "GPU"
  },
  "cells": [
    {
      "cell_type": "markdown",
      "metadata": {
        "id": "view-in-github",
        "colab_type": "text"
      },
      "source": [
        "<a href=\"https://colab.research.google.com/github/shuan88/AICUP2021/blob/img-szie-299/TE_train_CNNmodel.ipynb\" target=\"_parent\"><img src=\"https://colab.research.google.com/assets/colab-badge.svg\" alt=\"Open In Colab\"/></a>"
      ]
    },
    {
      "cell_type": "code",
      "source": [
        "save_file_name = \"TE_PP_new\"\n",
        "data_dir = \"/content/TE_dataset\"\n",
        "! cp /content/drive/MyDrive/AICUP2021/{save_file_name}.zip ./\n",
        "## unzip file from G-drive\n",
        "! unzip -q {save_file_name}.zip -d {data_dir}\n",
        "! rm {save_file_name}.zip\n",
        "\n",
        "# ! cp /content/drive/MyDrive/AICUP2021/TE_NG_256x256.zip ./\n",
        "# ## unzip file from G-drive\n",
        "# ! unzip -q TE_NG_256x256.zip -d TE_NG_256x256\n",
        "# ! rm TE_NG_256x256.zip\n",
        "\n",
        "# ! cp -r /content/drive/MyDrive/AICUP2021/P* ./\n",
        "# ! unzip -q \"/content/*.zip\" -d ./"
      ],
      "metadata": {
        "id": "O_UAW6VjH98W"
      },
      "execution_count": null,
      "outputs": []
    },
    {
      "cell_type": "markdown",
      "source": [
        "# Basic environment"
      ],
      "metadata": {
        "id": "VhxMTriQIU5b"
      }
    },
    {
      "cell_type": "code",
      "source": [
        "import itertools\n",
        "import os\n",
        "\n",
        "import matplotlib.pylab as plt\n",
        "import numpy as np\n",
        "\n",
        "import tensorflow as tf\n",
        "import tensorflow_hub as hub\n",
        "\n",
        "print(\"TF version:\", tf.__version__)\n",
        "print(\"Hub version:\", hub.__version__)\n",
        "print(\"GPU is\", \"available\" if tf.config.list_physical_devices('GPU') else \"NOT AVAILABLE\")"
      ],
      "metadata": {
        "colab": {
          "base_uri": "https://localhost:8080/"
        },
        "id": "LKA4ApO4IMdn",
        "outputId": "8418c72c-1f16-417a-96e6-4683451025b4"
      },
      "execution_count": null,
      "outputs": [
        {
          "output_type": "stream",
          "name": "stdout",
          "text": [
            "TF version: 2.8.0\n",
            "Hub version: 0.12.0\n",
            "GPU is available\n"
          ]
        }
      ]
    },
    {
      "cell_type": "code",
      "source": [
        "IMAGE_SIZE = (299,299)\n",
        "BATCH_SIZE = 8"
      ],
      "metadata": {
        "id": "Ti-3sPBkJIoI"
      },
      "execution_count": null,
      "outputs": []
    },
    {
      "cell_type": "markdown",
      "source": [
        "# Load data & build data set"
      ],
      "metadata": {
        "id": "ZSut1EkBIjZt"
      }
    },
    {
      "cell_type": "code",
      "source": [
        "# data_dir = \"/content/station4_white_pin2021-2-23_1614072478/training_data\"\n",
        "# data_dir = \"/content/TE_allimg_256x256\"\n",
        "# data_dir = \"/content/TE_NG_256x256\"\n",
        "def build_dataset(subset):\n",
        "# https://www.tensorflow.org/api_docs/python/tf/keras/utils/image_dataset_from_directory\n",
        "  return tf.keras.preprocessing.image_dataset_from_directory(\n",
        "      data_dir,\n",
        "      validation_split=.20,\n",
        "      subset=subset,\n",
        "      label_mode=\"categorical\",\n",
        "      # Seed needs to provided when using validation_split and shuffle = True.\n",
        "      # A fixed seed is used so that the validation set is stable across runs.\n",
        "      seed=123,\n",
        "      image_size=IMAGE_SIZE,\n",
        "      batch_size=BATCH_SIZE)\n",
        "\n",
        "train_ds = build_dataset(\"training\")\n",
        "class_names = tuple(train_ds.class_names)\n",
        "train_size = train_ds.cardinality().numpy()\n",
        "train_ds = train_ds.unbatch().batch(BATCH_SIZE)\n",
        "train_ds = train_ds.repeat()\n",
        "\n",
        "normalization_layer = tf.keras.layers.Rescaling(1. / 255)\n",
        "preprocessing_model = tf.keras.Sequential([normalization_layer])\n",
        "# do_data_augmentation = False \n",
        "do_data_augmentation = True \n",
        "\n",
        "if do_data_augmentation:\n",
        "  preprocessing_model.add(\n",
        "      tf.keras.layers.RandomRotation(5))\n",
        "  preprocessing_model.add(\n",
        "      tf.keras.layers.RandomTranslation(0, 0.2))\n",
        "  preprocessing_model.add(\n",
        "      tf.keras.layers.RandomTranslation(0.2, 0))\n",
        "  preprocessing_model.add(\n",
        "      tf.keras.layers.RandomContrast(0.2, 0))\n",
        "##   Like the old tf.keras.preprocessing.image.ImageDataGenerator(),\n",
        "##   image sizes are fixed when reading, and then a random zoom is applied.\n",
        "##   If all training inputs are larger than image_size, one could also use\n",
        "##   RandomCrop with a batch size of 1 and rebatch later.\n",
        "#   preprocessing_model.add(\n",
        "#       tf.keras.layers.RandomZoom(0.2, 0.2))\n",
        "  preprocessing_model.add(\n",
        "      tf.keras.layers.RandomFlip(mode=\"horizontal\"))\n",
        "train_ds = train_ds.map(lambda images, labels:\n",
        "                        (preprocessing_model(images), labels))\n",
        "\n",
        "val_ds = build_dataset(\"validation\")\n",
        "valid_size = val_ds.cardinality().numpy()\n",
        "val_ds = val_ds.unbatch().batch(BATCH_SIZE)\n",
        "val_ds = val_ds.map(lambda images, labels:\n",
        "                    (normalization_layer(images), labels))"
      ],
      "metadata": {
        "colab": {
          "base_uri": "https://localhost:8080/"
        },
        "id": "M0Nml2sZIjHh",
        "outputId": "f2e58877-3fc5-43db-eb67-fe1bb8fee401"
      },
      "execution_count": null,
      "outputs": [
        {
          "output_type": "stream",
          "name": "stdout",
          "text": [
            "Found 47821 files belonging to 2 classes.\n",
            "Using 38257 files for training.\n",
            "Found 47821 files belonging to 2 classes.\n",
            "Using 9564 files for validation.\n"
          ]
        }
      ]
    },
    {
      "cell_type": "markdown",
      "source": [
        "# load model frome tfHub\n"
      ],
      "metadata": {
        "id": "H_Lj6CtYJw4M"
      }
    },
    {
      "cell_type": "markdown",
      "source": [
        "## Fine-tuning"
      ],
      "metadata": {
        "id": "MVokHS1EF3Im"
      }
    },
    {
      "cell_type": "code",
      "source": [
        "model = tf.keras.Sequential([\n",
        "    hub.KerasLayer(\"https://tfhub.dev/google/imagenet/inception_v3/feature_vector/5\",\n",
        "                   trainable=True,arguments=dict(batch_norm_momentum=0.997)),\n",
        "    tf.keras.layers.Dense(len(class_names), activation='softmax')\n",
        "])\n",
        "model.build((None,)+IMAGE_SIZE+(3,))\n",
        "model.summary()"
      ],
      "metadata": {
        "colab": {
          "base_uri": "https://localhost:8080/"
        },
        "id": "GcGtnqZKE2fc",
        "outputId": "103bb647-dd6b-4fc8-aba8-a8e97fb58c6e"
      },
      "execution_count": null,
      "outputs": [
        {
          "output_type": "stream",
          "name": "stdout",
          "text": [
            "Model: \"sequential_4\"\n",
            "_________________________________________________________________\n",
            " Layer (type)                Output Shape              Param #   \n",
            "=================================================================\n",
            " keras_layer_2 (KerasLayer)  (None, 2048)              21802784  \n",
            "                                                                 \n",
            " dense_2 (Dense)             (None, 2)                 4098      \n",
            "                                                                 \n",
            "=================================================================\n",
            "Total params: 21,806,882\n",
            "Trainable params: 21,772,450\n",
            "Non-trainable params: 34,432\n",
            "_________________________________________________________________\n"
          ]
        }
      ]
    },
    {
      "cell_type": "code",
      "source": [
        "# model = tf.keras.Sequential([\n",
        "#     hub.KerasLayer(\"https://tfhub.dev/google/imagenet/inception_v3/feature_vector/5\",\n",
        "#                    trainable=True,arguments=dict(batch_norm_momentum=0.997)),\n",
        "#     tf.keras.layers.Dense(len(class_names), activation='softmax'),\n",
        "#     tf.keras.layers.Dropout(rate=0.2),\n",
        "#     tf.keras.layers.Dense(len(class_names),\n",
        "#                         kernel_regularizer=tf.keras.regularizers.l2(0.0001))\n",
        "# ])\n",
        "# model.build((None,)+IMAGE_SIZE+(3,))\n",
        "# model.summary()"
      ],
      "metadata": {
        "colab": {
          "base_uri": "https://localhost:8080/"
        },
        "id": "f-yGyFUUVkcg",
        "outputId": "23a86e5b-9ff7-404a-84c9-f5f0dd48e838"
      },
      "execution_count": null,
      "outputs": [
        {
          "output_type": "stream",
          "name": "stdout",
          "text": [
            "Model: \"sequential_3\"\n",
            "_________________________________________________________________\n",
            " Layer (type)                Output Shape              Param #   \n",
            "=================================================================\n",
            " keras_layer_2 (KerasLayer)  (None, 2048)              21802784  \n",
            "                                                                 \n",
            " dense_3 (Dense)             (None, 2)                 4098      \n",
            "                                                                 \n",
            " dropout_1 (Dropout)         (None, 2)                 0         \n",
            "                                                                 \n",
            " dense_4 (Dense)             (None, 2)                 6         \n",
            "                                                                 \n",
            "=================================================================\n",
            "Total params: 21,806,888\n",
            "Trainable params: 21,772,456\n",
            "Non-trainable params: 34,432\n",
            "_________________________________________________________________\n"
          ]
        }
      ]
    },
    {
      "cell_type": "markdown",
      "source": [
        "## Non Fine-tuning"
      ],
      "metadata": {
        "id": "ZlfbAB8AF65_"
      }
    },
    {
      "cell_type": "code",
      "source": [
        "model_handle = \"https://tfhub.dev/google/imagenet/inception_v3/feature_vector/5\"\n",
        "\n",
        "print(\"Building model with\", model_handle)\n",
        "\n",
        "do_fine_tuning = False\n",
        "\n",
        "model = tf.keras.Sequential([\n",
        "    # Explicitly define the input shape so the model can be properly\n",
        "    # loaded by the TFLiteConverter\n",
        "    tf.keras.layers.InputLayer(input_shape=IMAGE_SIZE + (3,)),\n",
        "    hub.KerasLayer(model_handle, trainable=do_fine_tuning),\n",
        "    tf.keras.layers.Dropout(rate=0.2),\n",
        "    tf.keras.layers.Dense(len(class_names),\n",
        "                        kernel_regularizer=tf.keras.regularizers.l2(0.0001))\n",
        "])\n",
        "model.build((None,)+IMAGE_SIZE+(3,))\n",
        "model.summary()"
      ],
      "metadata": {
        "id": "ajVsMQpMJ_JC",
        "colab": {
          "base_uri": "https://localhost:8080/"
        },
        "outputId": "a59327ca-93d8-44e5-c3eb-f7dbaecb9e8d"
      },
      "execution_count": null,
      "outputs": [
        {
          "output_type": "stream",
          "name": "stdout",
          "text": [
            "Building model with https://tfhub.dev/google/imagenet/inception_v3/feature_vector/5\n",
            "Model: \"sequential_3\"\n",
            "_________________________________________________________________\n",
            " Layer (type)                Output Shape              Param #   \n",
            "=================================================================\n",
            " keras_layer_1 (KerasLayer)  (None, 2048)              21802784  \n",
            "                                                                 \n",
            " dropout (Dropout)           (None, 2048)              0         \n",
            "                                                                 \n",
            " dense_1 (Dense)             (None, 2)                 4098      \n",
            "                                                                 \n",
            "=================================================================\n",
            "Total params: 21,806,882\n",
            "Trainable params: 4,098\n",
            "Non-trainable params: 21,802,784\n",
            "_________________________________________________________________\n"
          ]
        }
      ]
    },
    {
      "cell_type": "markdown",
      "source": [
        "## Start train"
      ],
      "metadata": {
        "id": "K4XVWqCyKg8f"
      }
    },
    {
      "cell_type": "code",
      "source": [
        "model.compile(\n",
        "  optimizer=tf.keras.optimizers.SGD(learning_rate=0.0005, momentum=0.9), \n",
        "  loss=tf.keras.losses.CategoricalCrossentropy(from_logits=True, label_smoothing=0.1),\n",
        "  metrics=['accuracy'])"
      ],
      "metadata": {
        "id": "h-i2ZyCMKTDT"
      },
      "execution_count": null,
      "outputs": []
    },
    {
      "cell_type": "code",
      "source": [
        "steps_per_epoch = train_size // BATCH_SIZE\n",
        "validation_steps = valid_size // BATCH_SIZE\n",
        "hist = model.fit(\n",
        "    train_ds,\n",
        "    epochs=30, steps_per_epoch=steps_per_epoch,\n",
        "    validation_data=val_ds,\n",
        "    validation_steps=validation_steps).history"
      ],
      "metadata": {
        "colab": {
          "base_uri": "https://localhost:8080/"
        },
        "id": "pVfPy24pKgYT",
        "outputId": "b6d5a0ca-ce2c-4b4a-d2b0-d12ecc0de884"
      },
      "execution_count": null,
      "outputs": [
        {
          "output_type": "stream",
          "name": "stdout",
          "text": [
            "Epoch 1/30\n"
          ]
        },
        {
          "output_type": "stream",
          "name": "stderr",
          "text": [
            "/usr/local/lib/python3.7/dist-packages/tensorflow/python/util/dispatch.py:1082: UserWarning: \"`categorical_crossentropy` received `from_logits=True`, but the `output` argument was produced by a sigmoid or softmax activation and thus does not represent logits. Was this intended?\"\n",
            "  return dispatch_target(*args, **kwargs)\n"
          ]
        },
        {
          "output_type": "stream",
          "name": "stdout",
          "text": [
            "597/597 [==============================] - 217s 329ms/step - loss: 0.5750 - accuracy: 0.9227 - val_loss: 0.5310 - val_accuracy: 0.9413\n",
            "Epoch 2/30\n",
            "597/597 [==============================] - 197s 329ms/step - loss: 0.5212 - accuracy: 0.9548 - val_loss: 0.4921 - val_accuracy: 0.9698\n",
            "Epoch 3/30\n",
            "597/597 [==============================] - 195s 327ms/step - loss: 0.5096 - accuracy: 0.9636 - val_loss: 0.4993 - val_accuracy: 0.9639\n",
            "Epoch 4/30\n",
            "597/597 [==============================] - 196s 328ms/step - loss: 0.4965 - accuracy: 0.9686 - val_loss: 0.4794 - val_accuracy: 0.9740\n",
            "Epoch 5/30\n",
            "597/597 [==============================] - 196s 329ms/step - loss: 0.4891 - accuracy: 0.9730 - val_loss: 0.4812 - val_accuracy: 0.9799\n",
            "Epoch 6/30\n",
            "597/597 [==============================] - 194s 326ms/step - loss: 0.4823 - accuracy: 0.9776 - val_loss: 0.4795 - val_accuracy: 0.9799\n",
            "Epoch 7/30\n",
            "597/597 [==============================] - 194s 325ms/step - loss: 0.4767 - accuracy: 0.9795 - val_loss: 0.4718 - val_accuracy: 0.9799\n",
            "Epoch 8/30\n",
            "597/597 [==============================] - 193s 324ms/step - loss: 0.4664 - accuracy: 0.9853 - val_loss: 0.4639 - val_accuracy: 0.9790\n",
            "Epoch 9/30\n",
            "597/597 [==============================] - 194s 325ms/step - loss: 0.4652 - accuracy: 0.9851 - val_loss: 0.4734 - val_accuracy: 0.9765\n",
            "Epoch 10/30\n",
            "597/597 [==============================] - 195s 326ms/step - loss: 0.4599 - accuracy: 0.9856 - val_loss: 0.4583 - val_accuracy: 0.9824\n",
            "Epoch 11/30\n",
            "597/597 [==============================] - 192s 322ms/step - loss: 0.4605 - accuracy: 0.9874 - val_loss: 0.4642 - val_accuracy: 0.9824\n",
            "Epoch 12/30\n",
            "597/597 [==============================] - 193s 323ms/step - loss: 0.4620 - accuracy: 0.9843 - val_loss: 0.4618 - val_accuracy: 0.9815\n",
            "Epoch 13/30\n",
            "597/597 [==============================] - 194s 325ms/step - loss: 0.4609 - accuracy: 0.9856 - val_loss: 0.4650 - val_accuracy: 0.9824\n",
            "Epoch 14/30\n",
            "597/597 [==============================] - 194s 325ms/step - loss: 0.4596 - accuracy: 0.9847 - val_loss: 0.4545 - val_accuracy: 0.9841\n",
            "Epoch 15/30\n",
            "597/597 [==============================] - 194s 325ms/step - loss: 0.4540 - accuracy: 0.9870 - val_loss: 0.4552 - val_accuracy: 0.9849\n",
            "Epoch 16/30\n",
            "597/597 [==============================] - 193s 324ms/step - loss: 0.4535 - accuracy: 0.9874 - val_loss: 0.4497 - val_accuracy: 0.9908\n",
            "Epoch 17/30\n",
            "597/597 [==============================] - 194s 324ms/step - loss: 0.4522 - accuracy: 0.9885 - val_loss: 0.4492 - val_accuracy: 0.9883\n",
            "Epoch 18/30\n",
            "597/597 [==============================] - 194s 324ms/step - loss: 0.4478 - accuracy: 0.9916 - val_loss: 0.4497 - val_accuracy: 0.9891\n",
            "Epoch 19/30\n",
            "597/597 [==============================] - 193s 323ms/step - loss: 0.4503 - accuracy: 0.9899 - val_loss: 0.4525 - val_accuracy: 0.9857\n",
            "Epoch 20/30\n",
            "597/597 [==============================] - 192s 322ms/step - loss: 0.4510 - accuracy: 0.9889 - val_loss: 0.4485 - val_accuracy: 0.9908\n",
            "Epoch 21/30\n",
            "597/597 [==============================] - 192s 322ms/step - loss: 0.4502 - accuracy: 0.9889 - val_loss: 0.4459 - val_accuracy: 0.9908\n",
            "Epoch 22/30\n",
            "597/597 [==============================] - 192s 322ms/step - loss: 0.4524 - accuracy: 0.9879 - val_loss: 0.4476 - val_accuracy: 0.9916\n",
            "Epoch 23/30\n",
            "597/597 [==============================] - 192s 322ms/step - loss: 0.4489 - accuracy: 0.9893 - val_loss: 0.4459 - val_accuracy: 0.9908\n",
            "Epoch 24/30\n",
            "597/597 [==============================] - 192s 322ms/step - loss: 0.4452 - accuracy: 0.9914 - val_loss: 0.4547 - val_accuracy: 0.9883\n",
            "Epoch 25/30\n",
            "597/597 [==============================] - 192s 322ms/step - loss: 0.4460 - accuracy: 0.9916 - val_loss: 0.4441 - val_accuracy: 0.9933\n",
            "Epoch 26/30\n",
            "597/597 [==============================] - 192s 322ms/step - loss: 0.4472 - accuracy: 0.9897 - val_loss: 0.4465 - val_accuracy: 0.9933\n",
            "Epoch 27/30\n",
            "597/597 [==============================] - 193s 323ms/step - loss: 0.4439 - accuracy: 0.9923 - val_loss: 0.4463 - val_accuracy: 0.9933\n",
            "Epoch 28/30\n",
            "597/597 [==============================] - 193s 324ms/step - loss: 0.4447 - accuracy: 0.9918 - val_loss: 0.4503 - val_accuracy: 0.9908\n",
            "Epoch 29/30\n",
            "597/597 [==============================] - 193s 323ms/step - loss: 0.4468 - accuracy: 0.9891 - val_loss: 0.4426 - val_accuracy: 0.9924\n",
            "Epoch 30/30\n",
            "597/597 [==============================] - 194s 324ms/step - loss: 0.4466 - accuracy: 0.9899 - val_loss: 0.4403 - val_accuracy: 0.9941\n"
          ]
        }
      ]
    },
    {
      "cell_type": "markdown",
      "source": [
        "## show loss"
      ],
      "metadata": {
        "id": "Lr-UWWhNKpNd"
      }
    },
    {
      "cell_type": "code",
      "source": [
        "plt.figure()\n",
        "plt.ylabel(\"Loss (training and validation)\")\n",
        "plt.xlabel(\"Training Steps\")\n",
        "plt.ylim([0,2])\n",
        "plt.plot(hist[\"loss\"])\n",
        "plt.plot(hist[\"val_loss\"])\n",
        "\n",
        "plt.figure()\n",
        "plt.ylabel(\"Accuracy (training and validation)\")\n",
        "plt.xlabel(\"Training Steps\")\n",
        "plt.ylim([0,1])\n",
        "plt.plot(hist[\"accuracy\"])\n",
        "plt.plot(hist[\"val_accuracy\"])"
      ],
      "metadata": {
        "colab": {
          "base_uri": "https://localhost:8080/",
          "height": 567
        },
        "id": "u1JZTk2WKoDh",
        "outputId": "b53679a7-1287-4449-f5e2-cb23aeb893db"
      },
      "execution_count": null,
      "outputs": [
        {
          "output_type": "execute_result",
          "data": {
            "text/plain": [
              "[<matplotlib.lines.Line2D at 0x7f02383adc90>]"
            ]
          },
          "metadata": {},
          "execution_count": 11
        },
        {
          "output_type": "display_data",
          "data": {
            "image/png": "[encoded data removed]",
            "text/plain": [
              "<Figure size 432x288 with 1 Axes>"
            ]
          },
          "metadata": {
            "needs_background": "light"
          }
        },
        {
          "output_type": "display_data",
          "data": {
            "image/png": "[encoded data removed]",
            "text/plain": [
              "<Figure size 432x288 with 1 Axes>"
            ]
          },
          "metadata": {
            "needs_background": "light"
          }
        }
      ]
    },
    {
      "cell_type": "markdown",
      "source": [
        "## Try out the model on an image from the validation data:"
      ],
      "metadata": {
        "id": "6uf2anJTK5-i"
      }
    },
    {
      "cell_type": "code",
      "source": [
        "x, y = next(iter(val_ds))\n",
        "image = x[0, :, :, :]\n",
        "true_index = np.argmax(y[0])\n",
        "plt.imshow(image)\n",
        "plt.axis('off')\n",
        "plt.show()\n",
        "\n",
        "# Expand the validation image to (1, 224, 224, 3) before predicting the label\n",
        "prediction_scores = model.predict(np.expand_dims(image, axis=0))\n",
        "predicted_index = np.argmax(prediction_scores)\n",
        "print(\"True label: \" + class_names[true_index])\n",
        "print(\"Predicted label: \" + class_names[predicted_index])"
      ],
      "metadata": {
        "colab": {
          "base_uri": "https://localhost:8080/",
          "height": 500
        },
        "id": "6NXOa3e8K7jc",
        "outputId": "9debd2f5-65cb-49b9-ccbd-3f0f65a53aa5"
      },
      "execution_count": null,
      "outputs": [
        {
          "output_type": "display_data",
          "data": {
            "image/png": "[encoded data removed]",
            "text/plain": [
              "<Figure size 432x288 with 1 Axes>"
            ]
          },
          "metadata": {
            "needs_background": "light"
          }
        },
        {
          "output_type": "error",
          "ename": "NameError",
          "evalue": "ignored",
          "traceback": [
            "\u001b[0;31m---------------------------------------------------------------------------\u001b[0m",
            "\u001b[0;31mNameError\u001b[0m                                 Traceback (most recent call last)",
            "\u001b[0;32m<ipython-input-6-68355bcc8aac>\u001b[0m in \u001b[0;36m<module>\u001b[0;34m()\u001b[0m\n\u001b[1;32m      8\u001b[0m \u001b[0mprint\u001b[0m\u001b[0;34m(\u001b[0m\u001b[0mnp\u001b[0m\u001b[0;34m.\u001b[0m\u001b[0mexpand_dims\u001b[0m\u001b[0;34m(\u001b[0m\u001b[0mimage\u001b[0m\u001b[0;34m,\u001b[0m \u001b[0maxis\u001b[0m\u001b[0;34m=\u001b[0m\u001b[0;36m0\u001b[0m\u001b[0;34m)\u001b[0m\u001b[0;34m.\u001b[0m\u001b[0mshape\u001b[0m\u001b[0;34m)\u001b[0m\u001b[0;34m\u001b[0m\u001b[0;34m\u001b[0m\u001b[0m\n\u001b[1;32m      9\u001b[0m \u001b[0;31m# Expand the validation image to (1, 224, 224, 3) before predicting the label\u001b[0m\u001b[0;34m\u001b[0m\u001b[0;34m\u001b[0m\u001b[0;34m\u001b[0m\u001b[0m\n\u001b[0;32m---> 10\u001b[0;31m \u001b[0mprediction_scores\u001b[0m \u001b[0;34m=\u001b[0m \u001b[0mmodel\u001b[0m\u001b[0;34m.\u001b[0m\u001b[0mpredict\u001b[0m\u001b[0;34m(\u001b[0m\u001b[0mnp\u001b[0m\u001b[0;34m.\u001b[0m\u001b[0mexpand_dims\u001b[0m\u001b[0;34m(\u001b[0m\u001b[0mimage\u001b[0m\u001b[0;34m,\u001b[0m \u001b[0maxis\u001b[0m\u001b[0;34m=\u001b[0m\u001b[0;36m0\u001b[0m\u001b[0;34m)\u001b[0m\u001b[0;34m)\u001b[0m\u001b[0;34m\u001b[0m\u001b[0;34m\u001b[0m\u001b[0m\n\u001b[0m\u001b[1;32m     11\u001b[0m \u001b[0mpredicted_index\u001b[0m \u001b[0;34m=\u001b[0m \u001b[0mnp\u001b[0m\u001b[0;34m.\u001b[0m\u001b[0margmax\u001b[0m\u001b[0;34m(\u001b[0m\u001b[0mprediction_scores\u001b[0m\u001b[0;34m)\u001b[0m\u001b[0;34m\u001b[0m\u001b[0;34m\u001b[0m\u001b[0m\n\u001b[1;32m     12\u001b[0m \u001b[0mprint\u001b[0m\u001b[0;34m(\u001b[0m\u001b[0;34m\"True label: \"\u001b[0m \u001b[0;34m+\u001b[0m \u001b[0mclass_names\u001b[0m\u001b[0;34m[\u001b[0m\u001b[0mtrue_index\u001b[0m\u001b[0;34m]\u001b[0m\u001b[0;34m)\u001b[0m\u001b[0;34m\u001b[0m\u001b[0;34m\u001b[0m\u001b[0m\n",
            "\u001b[0;31mNameError\u001b[0m: name 'model' is not defined"
          ]
        },
        {
          "output_type": "stream",
          "name": "stdout",
          "text": [
            "(1, 256, 256, 3)\n"
          ]
        }
      ]
    },
    {
      "cell_type": "markdown",
      "source": [
        "## save model"
      ],
      "metadata": {
        "id": "7sFvZG21LAT7"
      }
    },
    {
      "cell_type": "code",
      "source": [
        "model_name = \"inceptionv3_299\"\n",
        "model_path = '/content/drive/MyDrive/AICUP2021/saved_model/{}'.format(model_name)\n",
        "# ! mkdir /content/drive/MyDrive/AICUP2021/saved_model/$model_name\n",
        "\n",
        "# saved_model_path = f\"/content/drive/MyDrive/AICUP2021/saved_model/{model_name}/\"\n",
        "# # saved_model_path = f\"/tmp/saved_flowers_model_{model_name}\"\n",
        "# tf.saved_model.save(model, saved_model_path)\n",
        "! rm -rf /content/drive/MyDrive/AICUP2021/saved_model/$model_name\n",
        "model.save(model_path)\n",
        "! ls /content/drive/MyDrive/AICUP2021/saved_model/$model_name"
      ],
      "metadata": {
        "colab": {
          "base_uri": "https://localhost:8080/"
        },
        "id": "Em6qRWxeLDH1",
        "outputId": "ca02edf2-4ed4-4466-a634-638c4b130c58"
      },
      "execution_count": null,
      "outputs": [
        {
          "output_type": "stream",
          "name": "stdout",
          "text": [
            "INFO:tensorflow:Assets written to: /content/drive/MyDrive/AICUP2021/saved_model/inceptionv3_299/assets\n"
          ]
        },
        {
          "output_type": "stream",
          "name": "stderr",
          "text": [
            "INFO:tensorflow:Assets written to: /content/drive/MyDrive/AICUP2021/saved_model/inceptionv3_299/assets\n"
          ]
        },
        {
          "output_type": "stream",
          "name": "stdout",
          "text": [
            "assets\tkeras_metadata.pb  saved_model.pb  variables\n"
          ]
        }
      ]
    },
    {
      "cell_type": "markdown",
      "source": [
        "## Convert model to ONNX"
      ],
      "metadata": {
        "id": "01nTH5zMo8gm"
      }
    },
    {
      "cell_type": "code",
      "source": [
        "! pip install -U tf2onnx\n",
        "! pip install onnxruntime"
      ],
      "metadata": {
        "id": "kGcXOaaypCSG",
        "colab": {
          "base_uri": "https://localhost:8080/",
          "height": 738
        },
        "outputId": "950d3269-770a-4050-c858-02887d042bf1"
      },
      "execution_count": null,
      "outputs": [
        {
          "output_type": "stream",
          "name": "stdout",
          "text": [
            "Collecting tf2onnx\n",
            "  Downloading tf2onnx-1.9.3-py3-none-any.whl (435 kB)\n",
            "\u001b[K     |████████████████████████████████| 435 kB 5.3 MB/s \n",
            "\u001b[?25hCollecting onnx>=1.4.1\n",
            "  Downloading onnx-1.11.0-cp37-cp37m-manylinux_2_12_x86_64.manylinux2010_x86_64.whl (12.8 MB)\n",
            "\u001b[K     |████████████████████████████████| 12.8 MB 48.2 MB/s \n",
            "\u001b[?25hCollecting flatbuffers~=1.12\n",
            "  Downloading flatbuffers-1.12-py2.py3-none-any.whl (15 kB)\n",
            "Requirement already satisfied: six in /usr/local/lib/python3.7/dist-packages (from tf2onnx) (1.15.0)\n",
            "Requirement already satisfied: numpy>=1.14.1 in /usr/local/lib/python3.7/dist-packages (from tf2onnx) (1.21.5)\n",
            "Requirement already satisfied: requests in /usr/local/lib/python3.7/dist-packages (from tf2onnx) (2.23.0)\n",
            "Requirement already satisfied: typing-extensions>=3.6.2.1 in /usr/local/lib/python3.7/dist-packages (from onnx>=1.4.1->tf2onnx) (3.10.0.2)\n",
            "Requirement already satisfied: protobuf>=3.12.2 in /usr/local/lib/python3.7/dist-packages (from onnx>=1.4.1->tf2onnx) (3.17.3)\n",
            "Requirement already satisfied: chardet<4,>=3.0.2 in /usr/local/lib/python3.7/dist-packages (from requests->tf2onnx) (3.0.4)\n",
            "Requirement already satisfied: idna<3,>=2.5 in /usr/local/lib/python3.7/dist-packages (from requests->tf2onnx) (2.10)\n",
            "Requirement already satisfied: urllib3!=1.25.0,!=1.25.1,<1.26,>=1.21.1 in /usr/local/lib/python3.7/dist-packages (from requests->tf2onnx) (1.24.3)\n",
            "Requirement already satisfied: certifi>=2017.4.17 in /usr/local/lib/python3.7/dist-packages (from requests->tf2onnx) (2021.10.8)\n",
            "Installing collected packages: onnx, flatbuffers, tf2onnx\n",
            "  Attempting uninstall: flatbuffers\n",
            "    Found existing installation: flatbuffers 2.0\n",
            "    Uninstalling flatbuffers-2.0:\n",
            "      Successfully uninstalled flatbuffers-2.0\n",
            "\u001b[31mERROR: pip's dependency resolver does not currently take into account all the packages that are installed. This behaviour is the source of the following dependency conflicts.\n",
            "tensorflow 2.8.0 requires tf-estimator-nightly==2.8.0.dev2021122109, which is not installed.\u001b[0m\n",
            "Successfully installed flatbuffers-1.12 onnx-1.11.0 tf2onnx-1.9.3\n"
          ]
        },
        {
          "output_type": "display_data",
          "data": {
            "application/vnd.colab-display-data+json": {
              "pip_warning": {
                "packages": [
                  "flatbuffers"
                ]
              }
            }
          },
          "metadata": {}
        },
        {
          "output_type": "stream",
          "name": "stdout",
          "text": [
            "Collecting onnxruntime\n",
            "  Downloading onnxruntime-1.10.0-cp37-cp37m-manylinux_2_17_x86_64.manylinux2014_x86_64.whl (4.9 MB)\n",
            "\u001b[K     |████████████████████████████████| 4.9 MB 5.3 MB/s \n",
            "\u001b[?25hRequirement already satisfied: protobuf in /usr/local/lib/python3.7/dist-packages (from onnxruntime) (3.17.3)\n",
            "Requirement already satisfied: flatbuffers in /usr/local/lib/python3.7/dist-packages (from onnxruntime) (1.12)\n",
            "Requirement already satisfied: numpy>=1.16.6 in /usr/local/lib/python3.7/dist-packages (from onnxruntime) (1.21.5)\n",
            "Requirement already satisfied: six>=1.9 in /usr/local/lib/python3.7/dist-packages (from protobuf->onnxruntime) (1.15.0)\n",
            "Installing collected packages: onnxruntime\n",
            "Successfully installed onnxruntime-1.10.0\n"
          ]
        }
      ]
    },
    {
      "cell_type": "code",
      "source": [
        "output_path = \"/content/drive/MyDrive/AICUP2021/saved_onnx_model/{}.onnx\".format(model_name)\n",
        "! python -m tf2onnx.convert --saved-model $model_path --output $output_path\n",
        "! ls /content/drive/MyDrive/AICUP2021/saved_onnx_model/"
      ],
      "metadata": {
        "id": "Bt3GyA5upGSL",
        "colab": {
          "base_uri": "https://localhost:8080/"
        },
        "outputId": "3f18f150-25e3-48f2-c0d2-98583f4488df"
      },
      "execution_count": null,
      "outputs": [
        {
          "output_type": "stream",
          "name": "stdout",
          "text": [
            "/usr/lib/python3.7/runpy.py:125: RuntimeWarning: 'tf2onnx.convert' found in sys.modules after import of package 'tf2onnx', but prior to execution of 'tf2onnx.convert'; this may result in unpredictable behaviour\n",
            "  warn(RuntimeWarning(msg))\n",
            "2022-03-08 04:28:30,322 - WARNING - '--tag' not specified for saved_model. Using --tag serve\n",
            "2022-03-08 04:28:43,712 - INFO - Signatures found in model: [serving_default].\n",
            "2022-03-08 04:28:43,712 - WARNING - '--signature_def' not specified, using first signature: serving_default\n",
            "2022-03-08 04:28:43,714 - INFO - Output names: ['dense_2']\n",
            "WARNING:tensorflow:From /usr/local/lib/python3.7/dist-packages/tf2onnx/tf_loader.py:706: extract_sub_graph (from tensorflow.python.framework.graph_util_impl) is deprecated and will be removed in a future version.\n",
            "Instructions for updating:\n",
            "Use `tf.compat.v1.graph_util.extract_sub_graph`\n",
            "2022-03-08 04:28:48,476 - WARNING - From /usr/local/lib/python3.7/dist-packages/tf2onnx/tf_loader.py:706: extract_sub_graph (from tensorflow.python.framework.graph_util_impl) is deprecated and will be removed in a future version.\n",
            "Instructions for updating:\n",
            "Use `tf.compat.v1.graph_util.extract_sub_graph`\n",
            "2022-03-08 04:28:50,850 - INFO - Using tensorflow=2.8.0, onnx=1.11.0, tf2onnx=1.9.3/1190aa\n",
            "2022-03-08 04:28:50,850 - INFO - Using opset <onnx, 9>\n",
            "2022-03-08 04:29:02,689 - INFO - Computed 0 values for constant folding\n",
            "2022-03-08 04:29:10,492 - INFO - Optimizing ONNX model\n",
            "2022-03-08 04:29:13,595 - INFO - After optimization: BatchNormalization -94 (94->0), Const -294 (486->192), GlobalAveragePool +1 (0->1), Identity -13 (13->0), ReduceMean -1 (1->0), Transpose -401 (402->1)\n",
            "2022-03-08 04:29:14,108 - INFO - \n",
            "2022-03-08 04:29:14,108 - INFO - Successfully converted TensorFlow model /content/drive/MyDrive/AICUP2021/saved_model/inceptionv3_299 to ONNX\n",
            "2022-03-08 04:29:14,108 - INFO - Model inputs: ['keras_layer_2_input']\n",
            "2022-03-08 04:29:14,108 - INFO - Model outputs: ['dense_2']\n",
            "2022-03-08 04:29:14,108 - INFO - ONNX model is saved at /content/drive/MyDrive/AICUP2021/saved_onnx_model/inceptionv3_299.onnx\n",
            "inceptionv3_299.onnx  inceptionv3_2_Fine-tuning.onnx\n"
          ]
        }
      ]
    },
    {
      "cell_type": "code",
      "source": [
        "import onnx\n",
        "onnx_model = onnx.load(output_path)\n",
        "# # Check the model\n",
        "try:\n",
        "    onnx.checker.check_model(onnx_model)\n",
        "except onnx.checker.ValidationError as e:\n",
        "    print('The model is invalid: %s' % e)\n",
        "else:\n",
        "    print('The model is valid!')"
      ],
      "metadata": {
        "id": "_uRH-mlQtrBM",
        "colab": {
          "base_uri": "https://localhost:8080/"
        },
        "outputId": "9e023376-49aa-43ca-b11a-c39d63ff711b"
      },
      "execution_count": null,
      "outputs": [
        {
          "output_type": "stream",
          "name": "stdout",
          "text": [
            "The model is valid!\n"
          ]
        }
      ]
    },
    {
      "cell_type": "markdown",
      "source": [
        "# load saved model"
      ],
      "metadata": {
        "id": "eWuXO8IILtxH"
      }
    },
    {
      "cell_type": "code",
      "source": [
        "import tensorflow as tf\n",
        "import cv2\n",
        "from google.colab.patches import cv2_imshow\n",
        "new_model = tf.keras.models.load_model('/content/drive/MyDrive/AICUP2021/saved_model/{}'.format(model_name))\n",
        "new_model.summary()"
      ],
      "metadata": {
        "colab": {
          "base_uri": "https://localhost:8080/"
        },
        "id": "0QVQAWxOLxz_",
        "outputId": "bee4fb5a-8e93-4b23-83dc-122ae2d36cb0"
      },
      "execution_count": null,
      "outputs": [
        {
          "output_type": "stream",
          "name": "stdout",
          "text": [
            "Model: \"sequential_4\"\n",
            "_________________________________________________________________\n",
            " Layer (type)                Output Shape              Param #   \n",
            "=================================================================\n",
            " keras_layer_2 (KerasLayer)  (None, 2048)              21802784  \n",
            "                                                                 \n",
            " dense_2 (Dense)             (None, 2)                 4098      \n",
            "                                                                 \n",
            "=================================================================\n",
            "Total params: 21,806,882\n",
            "Trainable params: 21,772,450\n",
            "Non-trainable params: 34,432\n",
            "_________________________________________________________________\n"
          ]
        }
      ]
    },
    {
      "cell_type": "code",
      "source": [
        "# dir_name = \"/content/station4_white_pin2021-2-23_1614072478/testing_data/\"\n",
        "dir_name = \"/content/station4_white_pin2021-2-23_1614072478/training_data/\"\n",
        "# dir_name = \"/content/station4_white_pin2021-2-9_1612936555/testing_data/\"\n",
        "ok_dir = dir_name + \"ok\"\n",
        "# ok_dir = dir_name + \"ng\"\n",
        "print(len(os.listdir(ok_dir)))"
      ],
      "metadata": {
        "colab": {
          "base_uri": "https://localhost:8080/"
        },
        "id": "RFOnp0n5fuhK",
        "outputId": "b181a948-9931-4000-b6f7-d94556176208"
      },
      "execution_count": null,
      "outputs": [
        {
          "output_type": "stream",
          "name": "stdout",
          "text": [
            "4491\n"
          ]
        }
      ]
    }
  ]
}